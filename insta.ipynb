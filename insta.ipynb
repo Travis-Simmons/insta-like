{
 "metadata": {
  "language_info": {
   "codemirror_mode": {
    "name": "ipython",
    "version": 3
   },
   "file_extension": ".py",
   "mimetype": "text/x-python",
   "name": "python",
   "nbconvert_exporter": "python",
   "pygments_lexer": "ipython3",
   "version": "3.9.2-final"
  },
  "orig_nbformat": 2,
  "kernelspec": {
   "name": "python3",
   "display_name": "Python 3",
   "language": "python"
  }
 },
 "nbformat": 4,
 "nbformat_minor": 2,
 "cells": [
  {
   "cell_type": "code",
   "execution_count": null,
   "metadata": {},
   "outputs": [],
   "source": [
    "from time import sleep\n",
    "from selenium import webdriver\n",
    "\n",
    "browser = webdriver.Firefox()\n",
    "browser.implicitly_wait(5)\n",
    "\n",
    "browser.get('https://www.instagram.com/')\n",
    "\n",
    "sleep(2)\n",
    "\n",
    "username_input = browser.find_element_by_css_selector(\"input[name='username']\")\n",
    "password_input = browser.find_element_by_css_selector(\"input[name='password']\")\n",
    "\n",
    "username_input.send_keys(\"travissimmons\")\n",
    "password_input.send_keys(\"Joemamais.1\")\n",
    "\n",
    "login_button = browser.find_element_by_xpath(\"//button[@type='submit']\")\n",
    "login_button.click()\n",
    "\n",
    "sleep(5)\n",
    "\n",
    "browser.close()"
   ]
  },
  {
   "cell_type": "code",
   "execution_count": null,
   "metadata": {},
   "outputs": [],
   "source": [
    "from time import sleep\n",
    "\n",
    "class LoginPage:\n",
    "    def __init__(self, browser):\n",
    "        self.browser = browser\n",
    "\n",
    "    def login(self, username, password):\n",
    "        username_input = self.browser.find_element_by_css_selector(\"input[name='username']\")\n",
    "        password_input = self.browser.find_element_by_css_selector(\"input[name='password']\")\n",
    "        username_input.send_keys(username)\n",
    "        password_input.send_keys(password)\n",
    "        login_button = browser.find_element_by_xpath(\"//button[@type='submit']\")\n",
    "        login_button.click()\n",
    "        sleep(5)\n",
    "\n",
    "class HomePage:\n",
    "    def __init__(self, browser):\n",
    "        self.browser = browser\n",
    "        self.browser.get('https://www.instagram.com/')\n",
    "\n",
    "    def go_to_login_page(self):\n",
    "        self.browser.find_element_by_xpath(\"//a[text()='Log in']\").click()\n",
    "        sleep(2)\n",
    "        return LoginPage(self.browser)"
   ]
  },
  {
   "cell_type": "code",
   "execution_count": null,
   "metadata": {},
   "outputs": [],
   "source": [
    "tags_list = ['foodporn', 'fashionblogger', 'beach', 'luxury', 'hair', 'art', 'followforfollow', ]\n",
    "comments_list = []"
   ]
  },
  {
   "cell_type": "code",
   "execution_count": null,
   "metadata": {
    "tags": []
   },
   "outputs": [],
   "source": [
    "from instapy import InstaPy\n",
    "\n",
    "session = InstaPy(username=\"travissimmons\", password=\"Joemamais.1\")\n",
    "session.set_quota_supervisor(enabled=True, peak_comments_daily=240, peak_comments_hourly=21)\n",
    "session.set_relationship_bounds(enabled=True, max_followers=8500)\n",
    "session.set_dont_like([\"naked\", \"nsfw\"])\n",
    "session.set_do_follow(True, percentage=50)\n",
    "session.set_do_comment(True, percentage=50)\n",
    "session.set_comments([\"Nice!\", \"Sweet!\", \"I wish!\", \"I'll be there one day.\", \"Yaaaaas\", \"Wow :D\", \"Love it!\", \"haha\", \"Thanks for sharing!\"])\n",
    "session.login()\n",
    "session.like_by_tags(tags_list, amount=5)\n",
    "\n",
    "session.end()\n"
   ]
  },
  {
   "cell_type": "code",
   "execution_count": null,
   "metadata": {},
   "outputs": [],
   "source": [
    "session.end()\n"
   ]
  },
  {
   "cell_type": "code",
   "execution_count": null,
   "metadata": {},
   "outputs": [],
   "source": []
  }
 ]
}